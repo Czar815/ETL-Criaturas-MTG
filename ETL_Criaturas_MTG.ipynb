{
  "nbformat": 4,
  "nbformat_minor": 0,
  "metadata": {
    "colab": {
      "provenance": [],
      "toc_visible": true
    },
    "kernelspec": {
      "name": "python3",
      "display_name": "Python 3"
    },
    "language_info": {
      "name": "python"
    }
  },
  "cells": [
    {
      "cell_type": "markdown",
      "source": [
        "# ETL - Criaturas das coleções Core e Expansion de Magic The Gathering\n",
        "\n",
        "## Introdução\n",
        "\n",
        "Magic The Gathering é um jogo de cartas colecionáveis criado por Richard Garfield, lançado em 1993 pela *Wizards of the Coast*. É o primeiro jogo de cartas colecionáveis da história e hoje conta com cerca de 50 milhões de jogadores em todo o mundo.\n",
        "\n",
        "O jogo consiste em diferentes tipos de cartas com efeitos que interagem entre si, criando uma gameplay complexa e envolvente. Cada jogador possui um conjunto de cartas chamado de grimório ou *deck*, que contém as cartas disponíveis para aquele jogador em uma partida.\n",
        "\n",
        "O jogo sofreu leve modificações e atualizações desde suas versões iniciais, se consolidando no jogo que é hoje. Os tipos de cartas que se pode encontrar no jogo são: Criaturas, Artefatos, Mágicas Instantâneas, Feitiços, Terrenos e Planeswalkers.\n",
        "\n",
        "Desde sua primeira coleção lançada, conhecida como *Limited Edition Alpha*, foram lançadas mais de 900 outras coleções, aumentando consideravelmente o número de cartas no jogo. Até a data desta ETL, a última coleção lançada foi *Spotlight Series*, em janeiro de 2025.\n",
        "\n",
        "Uma das formas que os jogadores e colecionadores podem procurar por cartas do jogo e buscar por cartas que ainda serão lançadas é através da plataforma [Scryfall](https://scryfall.com/), que oferece a API que será utilizada neste projeto.\n",
        "\n",
        "## Objetivo\n",
        "\n",
        "Dentre as coleções lançadas, há coleções voltadas para formatos de jogo espefícicos, como as coleções focadas nos formatos Modern ou Commander, e há também coleções com cartas com finalidade humorísticas que não são válidas para jogo. Entretanto, há dois tipos de coleções que consideramos como básicos nesta ETL: as coleções do tipo *Core*, que são lançadas anualmente, como as coleções \"Tenth Edition\" ou \"M15\"; e as coleções do tipo *Expansion*, que são as popularmente conhecidas como coleções de bloco, que possuem cartas que se relacionam dentro de uma mesma *lore*.\n",
        "\n",
        "Nosso objetivo nesta ETL é utilizar a API do Scryfall para obter todas as cartas do tipo Criatura dentro das coleções básicas do jogo (coleções *Core* e *Expansions*) e armazenar as suas informações básicas em um arquivo CSV.\n",
        "\n",
        "As informações básicas que vamos considerar são: nome da carta, nome da coleção, valor de mana (custo convertido de mana - CMC), poder, resistência e texto da carta (texto de oráculo).\n",
        "\n",
        "\n",
        "\n",
        "## Referências\n",
        "\n",
        "[Magic: The Gathering - Wikipedia (EN)](https://en.wikipedia.org/wiki/Magic:_The_Gathering)\n",
        "\n",
        "[Scryfall Magic The Gathering Search](https://scryfall.com/)\n",
        "\n",
        "[REST API Documentation - Scryfall](https://scryfall.com/docs/api)"
      ],
      "metadata": {
        "id": "gLymE9XyBPNP"
      }
    },
    {
      "cell_type": "markdown",
      "source": [
        "# Extração"
      ],
      "metadata": {
        "id": "w1W2aT-25XAG"
      }
    },
    {
      "cell_type": "markdown",
      "source": [
        "## I. Extração das coleções do tipo *Core* e *Expansion* de Magic The **Gathering**"
      ],
      "metadata": {
        "id": "AZpYD-wY8M3J"
      }
    },
    {
      "cell_type": "code",
      "execution_count": null,
      "metadata": {
        "id": "5Abf9mFGzD66"
      },
      "outputs": [],
      "source": [
        "import requests\n",
        "import json\n",
        "import time\n",
        "import pandas as pd\n",
        "\n",
        "# API URL\n",
        "scryfall_api_url = \"https://api.scryfall.com\""
      ]
    },
    {
      "cell_type": "code",
      "source": [
        "# Definimos essa função para fazer requisições pois a documentação da API do\n",
        "# Scryfall pede por um delay de 50-100 ms entre requisições consecutivas. Desta\n",
        "# forma, podemos garantir que o delay será respeitado\n",
        "def request_get(url):\n",
        "    # Mede o tempo antes\n",
        "    before_time = time.time()\n",
        "\n",
        "    # Faz requisição\n",
        "    response = requests.get(url)\n",
        "\n",
        "    # Mede o tempo depois\n",
        "    after_time = time.time()\n",
        "\n",
        "    # Calcula o tempo que a requisição levou\n",
        "    ellapsed_time = after_time - before_time\n",
        "\n",
        "    # Se a requisição demorou menos de 100 ms:\n",
        "    if ellapsed_time < 0.1:\n",
        "        # Calcula o tempo restante de espera\n",
        "        wait_time = 0.1 - ellapsed_time\n",
        "\n",
        "        # Espera o tempo restante para fazer a requisição demorar 100 ms\n",
        "        time.sleep(wait_time)\n",
        "\n",
        "    # Retorna a resposta\n",
        "    return response"
      ],
      "metadata": {
        "id": "yEtfa9pdCTRB"
      },
      "execution_count": null,
      "outputs": []
    },
    {
      "cell_type": "code",
      "source": [
        "# Pedindo todas as coleções de MTG\n",
        "response = request_get(f\"{scryfall_api_url}/sets\")\n",
        "\n",
        "# Obtém o campo 'data', que é uma lista de coleções\n",
        "mtg_sets = response.json()['data']\n",
        "\n",
        "# Tamanho da lista (quantidade de coleções)\n",
        "print(f\"Total de coleções obtidas: {len(mtg_sets)}\")"
      ],
      "metadata": {
        "colab": {
          "base_uri": "https://localhost:8080/"
        },
        "id": "9VAlUtvn58x_",
        "outputId": "40136459-1fb6-4033-938f-251071835785"
      },
      "execution_count": null,
      "outputs": [
        {
          "output_type": "stream",
          "name": "stdout",
          "text": [
            "Total de coleções obtidas: 940\n"
          ]
        }
      ]
    },
    {
      "cell_type": "code",
      "source": [
        "# Vamos selecionar apenas as coleções 'core' ou 'expansions'\n",
        "mtg_basic_sets = [mtg_set for mtg_set in mtg_sets if (mtg_set['set_type'] in ['core', 'expansion'])]\n",
        "\n",
        "# Tamanho da lista (quantidade de coleções)\n",
        "print(f\"Total de coleções selecionadas: {len(mtg_basic_sets)}\")"
      ],
      "metadata": {
        "colab": {
          "base_uri": "https://localhost:8080/"
        },
        "id": "Z3yJMxjO6JmN",
        "outputId": "980ffd7b-1dab-42b0-8094-a438a35203b3"
      },
      "execution_count": null,
      "outputs": [
        {
          "output_type": "stream",
          "name": "stdout",
          "text": [
            "Total de coleções selecionadas: 131\n"
          ]
        }
      ]
    },
    {
      "cell_type": "markdown",
      "source": [
        "### Exemplo de um objeto *set*"
      ],
      "metadata": {
        "id": "R2FOiRmh7-9b"
      }
    },
    {
      "cell_type": "code",
      "source": [
        "print(json.dumps(mtg_basic_sets[42], indent=2))"
      ],
      "metadata": {
        "colab": {
          "base_uri": "https://localhost:8080/"
        },
        "id": "Jk-Vw7Mj8HWt",
        "outputId": "37c3091b-e015-4bd8-e35d-7042e5f14d38"
      },
      "execution_count": null,
      "outputs": [
        {
          "output_type": "stream",
          "name": "stdout",
          "text": [
            "{\n",
            "  \"object\": \"set\",\n",
            "  \"id\": \"0eeb9a9a-20ac-404d-b55f-aeb7a43a7f62\",\n",
            "  \"code\": \"ori\",\n",
            "  \"mtgo_code\": \"ori\",\n",
            "  \"arena_code\": \"ori\",\n",
            "  \"tcgplayer_id\": 1512,\n",
            "  \"name\": \"Magic Origins\",\n",
            "  \"uri\": \"https://api.scryfall.com/sets/0eeb9a9a-20ac-404d-b55f-aeb7a43a7f62\",\n",
            "  \"scryfall_uri\": \"https://scryfall.com/sets/ori\",\n",
            "  \"search_uri\": \"https://api.scryfall.com/cards/search?include_extras=true&include_variations=true&order=set&q=e%3Aori&unique=prints\",\n",
            "  \"released_at\": \"2015-07-17\",\n",
            "  \"set_type\": \"core\",\n",
            "  \"card_count\": 288,\n",
            "  \"printed_size\": 272,\n",
            "  \"digital\": false,\n",
            "  \"nonfoil_only\": false,\n",
            "  \"foil_only\": false,\n",
            "  \"block_code\": \"lea\",\n",
            "  \"block\": \"Core Set\",\n",
            "  \"icon_svg_uri\": \"https://svgs.scryfall.io/sets/ori.svg?1736139600\"\n",
            "}\n"
          ]
        }
      ]
    },
    {
      "cell_type": "markdown",
      "source": [
        "## II. Obtenção das cartas de cada coleção"
      ],
      "metadata": {
        "id": "sFchE-6YAads"
      }
    },
    {
      "cell_type": "code",
      "source": [
        "# Obtem o conjunto de cartas de uma coleção dada\n",
        "def getSetCards(mtg_set):\n",
        "    # Pedido pelas cartas da coleção dada\n",
        "    response = request_get(mtg_set['search_uri'])\n",
        "\n",
        "    cards = response.json()['data']\n",
        "\n",
        "    # Obtem páginas faltantes se houver\n",
        "    while response.json()['has_more']:\n",
        "        response = request_get(response.json()['next_page'])\n",
        "\n",
        "        # Obtem a lista de cartas da nova resposta\n",
        "        cards += response.json()['data']\n",
        "\n",
        "    # Seleciona apenas as cartas de papel\n",
        "    paper_cards = [card for card in cards if 'paper' in card['games']]\n",
        "\n",
        "    # Faz log das informações\n",
        "    log_msg = f\"Obtivemos {len(cards)} cartas do conjunto {mtg_set['name']}. Destas cartas, obtivemos {len(paper_cards)} cartas no formato 'papel'.\\n\"\n",
        "\n",
        "    return paper_cards, log_msg\n",
        "\n",
        "# Obtenção de todas as cartas das coleções com log das operações\n",
        "cards = []\n",
        "\n",
        "# Como esta é uma requisição demorada, vamos utilizar variável que dirá quando\n",
        "# vamos imprimir o progresso da requisição\n",
        "next_print = 10\n",
        "\n",
        "# Abre arquivo criado para realizar o log\n",
        "with open(\"card_extraction.txt\",\"w\") as log_file:\n",
        "\n",
        "    # Imprime progresso inicial\n",
        "    print(f\"Progresso: 0/{len(mtg_basic_sets)} coleções (0%)\")\n",
        "\n",
        "    # Anota o tempo inicial\n",
        "    start_time = time.time()\n",
        "\n",
        "    # Percorre as coleções, obtendo as cartas de cada uma\n",
        "    for i, mtg_set in enumerate(mtg_basic_sets):\n",
        "        new_cards, log_msg = getSetCards(mtg_set)\n",
        "\n",
        "        # Adiciona as cartas na lista\n",
        "        cards += new_cards\n",
        "\n",
        "        # Adiciona o log no arquivo\n",
        "        log_file.write(log_msg)\n",
        "\n",
        "        # Calcula tempo passado desde o início do processo:\n",
        "        ellapsed_time = time.time() - start_time\n",
        "\n",
        "        # Utiliza i para imprimir uma barra de progresso\n",
        "        if ellapsed_time > next_print:\n",
        "            next_print += 10\n",
        "            progress = 100 * (i+1) / len(mtg_basic_sets)\n",
        "            print(f\"Progresso: {i+1}/{len(mtg_basic_sets)} coleções ({progress:.1f}%)\")\n",
        "\n",
        "    # Imprime última mensagem de progresso:\n",
        "    print(f\"Progresso: {len(mtg_basic_sets)}/{len(mtg_basic_sets)} coleções (100%)\")\n",
        "    print(f\"\\nTempo de conclusão: {time.time() - start_time:.1f} segundos.\")\n",
        "\n",
        "    # Imprime total de cartas obtidas e adiciona ao log\n",
        "    log_msg = f\"\\nTotal de cartas: {len(cards)}\"\n",
        "    print(log_msg)\n",
        "    log_file.write(log_msg)"
      ],
      "metadata": {
        "colab": {
          "base_uri": "https://localhost:8080/"
        },
        "id": "YY5NPZXNtqsJ",
        "outputId": "74e928ac-6deb-4d8a-c1f4-71ad2b040624"
      },
      "execution_count": null,
      "outputs": [
        {
          "output_type": "stream",
          "name": "stdout",
          "text": [
            "Progresso: 0/131 coleções (0%)\n",
            "Progresso: 13/131 coleções (9.9%)\n",
            "Progresso: 25/131 coleções (19.1%)\n",
            "Progresso: 43/131 coleções (32.8%)\n",
            "Progresso: 61/131 coleções (46.6%)\n",
            "Progresso: 83/131 coleções (63.4%)\n",
            "Progresso: 101/131 coleções (77.1%)\n",
            "Progresso: 118/131 coleções (90.1%)\n",
            "Progresso: 131/131 coleções (100%)\n",
            "\n",
            "Tempo de conclusão: 77.7 segundos.\n",
            "\n",
            "Total de cartas: 36468\n"
          ]
        }
      ]
    },
    {
      "cell_type": "markdown",
      "source": [
        "### Exemplo de um objeto *card*"
      ],
      "metadata": {
        "id": "Bcu0ADan70Jc"
      }
    },
    {
      "cell_type": "code",
      "source": [
        "print(json.dumps(cards[1337], indent=2))"
      ],
      "metadata": {
        "colab": {
          "base_uri": "https://localhost:8080/"
        },
        "id": "U8vJ4m4-OlPY",
        "outputId": "f84ffaca-ab2b-41b4-e738-fd8c65428241"
      },
      "execution_count": null,
      "outputs": [
        {
          "output_type": "stream",
          "name": "stdout",
          "text": [
            "{\n",
            "  \"object\": \"card\",\n",
            "  \"id\": \"58706bd8-558a-43b9-9f1e-c1ff0044203b\",\n",
            "  \"oracle_id\": \"b0747a4f-d041-4750-aef5-a5d101696f65\",\n",
            "  \"multiverse_ids\": [\n",
            "    669087\n",
            "  ],\n",
            "  \"mtgo_id\": 129591,\n",
            "  \"arena_id\": 91709,\n",
            "  \"tcgplayer_id\": 558693,\n",
            "  \"cardmarket_id\": 777777,\n",
            "  \"name\": \"Galewind Moose\",\n",
            "  \"lang\": \"en\",\n",
            "  \"released_at\": \"2024-08-02\",\n",
            "  \"uri\": \"https://api.scryfall.com/cards/58706bd8-558a-43b9-9f1e-c1ff0044203b\",\n",
            "  \"scryfall_uri\": \"https://scryfall.com/card/blb/173/galewind-moose?utm_source=api\",\n",
            "  \"layout\": \"normal\",\n",
            "  \"highres_image\": true,\n",
            "  \"image_status\": \"highres_scan\",\n",
            "  \"image_uris\": {\n",
            "    \"small\": \"https://cards.scryfall.io/small/front/5/8/58706bd8-558a-43b9-9f1e-c1ff0044203b.jpg?1721426814\",\n",
            "    \"normal\": \"https://cards.scryfall.io/normal/front/5/8/58706bd8-558a-43b9-9f1e-c1ff0044203b.jpg?1721426814\",\n",
            "    \"large\": \"https://cards.scryfall.io/large/front/5/8/58706bd8-558a-43b9-9f1e-c1ff0044203b.jpg?1721426814\",\n",
            "    \"png\": \"https://cards.scryfall.io/png/front/5/8/58706bd8-558a-43b9-9f1e-c1ff0044203b.png?1721426814\",\n",
            "    \"art_crop\": \"https://cards.scryfall.io/art_crop/front/5/8/58706bd8-558a-43b9-9f1e-c1ff0044203b.jpg?1721426814\",\n",
            "    \"border_crop\": \"https://cards.scryfall.io/border_crop/front/5/8/58706bd8-558a-43b9-9f1e-c1ff0044203b.jpg?1721426814\"\n",
            "  },\n",
            "  \"mana_cost\": \"{4}{G}{G}\",\n",
            "  \"cmc\": 6.0,\n",
            "  \"type_line\": \"Creature \\u2014 Elemental Elk\",\n",
            "  \"oracle_text\": \"Flash\\nVigilance, reach, trample\",\n",
            "  \"power\": \"6\",\n",
            "  \"toughness\": \"6\",\n",
            "  \"colors\": [\n",
            "    \"G\"\n",
            "  ],\n",
            "  \"color_identity\": [\n",
            "    \"G\"\n",
            "  ],\n",
            "  \"keywords\": [\n",
            "    \"Reach\",\n",
            "    \"Vigilance\",\n",
            "    \"Trample\",\n",
            "    \"Flash\"\n",
            "  ],\n",
            "  \"legalities\": {\n",
            "    \"standard\": \"legal\",\n",
            "    \"future\": \"legal\",\n",
            "    \"historic\": \"legal\",\n",
            "    \"timeless\": \"legal\",\n",
            "    \"gladiator\": \"legal\",\n",
            "    \"pioneer\": \"legal\",\n",
            "    \"explorer\": \"legal\",\n",
            "    \"modern\": \"legal\",\n",
            "    \"legacy\": \"legal\",\n",
            "    \"pauper\": \"not_legal\",\n",
            "    \"vintage\": \"legal\",\n",
            "    \"penny\": \"not_legal\",\n",
            "    \"commander\": \"legal\",\n",
            "    \"oathbreaker\": \"legal\",\n",
            "    \"standardbrawl\": \"legal\",\n",
            "    \"brawl\": \"legal\",\n",
            "    \"alchemy\": \"legal\",\n",
            "    \"paupercommander\": \"not_legal\",\n",
            "    \"duel\": \"legal\",\n",
            "    \"oldschool\": \"not_legal\",\n",
            "    \"premodern\": \"not_legal\",\n",
            "    \"predh\": \"not_legal\"\n",
            "  },\n",
            "  \"games\": [\n",
            "    \"paper\",\n",
            "    \"mtgo\",\n",
            "    \"arena\"\n",
            "  ],\n",
            "  \"reserved\": false,\n",
            "  \"foil\": true,\n",
            "  \"nonfoil\": true,\n",
            "  \"finishes\": [\n",
            "    \"nonfoil\",\n",
            "    \"foil\"\n",
            "  ],\n",
            "  \"oversized\": false,\n",
            "  \"promo\": false,\n",
            "  \"reprint\": false,\n",
            "  \"variation\": false,\n",
            "  \"set_id\": \"a2f58272-bba6-439d-871e-7a46686ac018\",\n",
            "  \"set\": \"blb\",\n",
            "  \"set_name\": \"Bloomburrow\",\n",
            "  \"set_type\": \"expansion\",\n",
            "  \"set_uri\": \"https://api.scryfall.com/sets/a2f58272-bba6-439d-871e-7a46686ac018\",\n",
            "  \"set_search_uri\": \"https://api.scryfall.com/cards/search?order=set&q=e%3Ablb&unique=prints\",\n",
            "  \"scryfall_set_uri\": \"https://scryfall.com/sets/blb?utm_source=api\",\n",
            "  \"rulings_uri\": \"https://api.scryfall.com/cards/58706bd8-558a-43b9-9f1e-c1ff0044203b/rulings\",\n",
            "  \"prints_search_uri\": \"https://api.scryfall.com/cards/search?order=released&q=oracleid%3Ab0747a4f-d041-4750-aef5-a5d101696f65&unique=prints\",\n",
            "  \"collector_number\": \"173\",\n",
            "  \"digital\": false,\n",
            "  \"rarity\": \"uncommon\",\n",
            "  \"flavor_text\": \"\\\"Something has stirred the Calamity Beasts, and they are wreaking havoc. Anyone who wishes to help, come forth! Whether it's with your swords in the fight or your shovels in the field, join me!\\\"\\n\\u2014Mabel, heir to Cragflame\",\n",
            "  \"card_back_id\": \"0aeebaf5-8c7d-4636-9e82-8c27447861f7\",\n",
            "  \"artist\": \"Valera Lutfullina\",\n",
            "  \"artist_ids\": [\n",
            "    \"76bc57c7-47c6-40c5-8797-8ffcce430ac7\"\n",
            "  ],\n",
            "  \"illustration_id\": \"ce1f57f2-3778-47c0-9f28-0a889aa33fbf\",\n",
            "  \"border_color\": \"black\",\n",
            "  \"frame\": \"2015\",\n",
            "  \"full_art\": false,\n",
            "  \"textless\": false,\n",
            "  \"booster\": true,\n",
            "  \"story_spotlight\": false,\n",
            "  \"edhrec_rank\": 13487,\n",
            "  \"penny_rank\": 9586,\n",
            "  \"preview\": {\n",
            "    \"source\": \"Anna Margaret\",\n",
            "    \"source_uri\": \"https://x.com/itsannamargaret/status/1811153920657387742\",\n",
            "    \"previewed_at\": \"2024-07-10\"\n",
            "  },\n",
            "  \"prices\": {\n",
            "    \"usd\": \"0.10\",\n",
            "    \"usd_foil\": \"0.14\",\n",
            "    \"usd_etched\": null,\n",
            "    \"eur\": \"0.14\",\n",
            "    \"eur_foil\": \"0.10\",\n",
            "    \"tix\": \"0.03\"\n",
            "  },\n",
            "  \"related_uris\": {\n",
            "    \"gatherer\": \"https://gatherer.wizards.com/Pages/Card/Details.aspx?multiverseid=669087&printed=false\",\n",
            "    \"tcgplayer_infinite_articles\": \"https://partner.tcgplayer.com/c/4931599/1830156/21018?subId1=api&trafcat=infinite&u=https%3A%2F%2Finfinite.tcgplayer.com%2Fsearch%3FcontentMode%3Darticle%26game%3Dmagic%26partner%3Dscryfall%26q%3DGalewind%2BMoose\",\n",
            "    \"tcgplayer_infinite_decks\": \"https://partner.tcgplayer.com/c/4931599/1830156/21018?subId1=api&trafcat=infinite&u=https%3A%2F%2Finfinite.tcgplayer.com%2Fsearch%3FcontentMode%3Ddeck%26game%3Dmagic%26partner%3Dscryfall%26q%3DGalewind%2BMoose\",\n",
            "    \"edhrec\": \"https://edhrec.com/route/?cc=Galewind+Moose\"\n",
            "  },\n",
            "  \"purchase_uris\": {\n",
            "    \"tcgplayer\": \"https://partner.tcgplayer.com/c/4931599/1830156/21018?subId1=api&u=https%3A%2F%2Fwww.tcgplayer.com%2Fproduct%2F558693%3Fpage%3D1\",\n",
            "    \"cardmarket\": \"https://www.cardmarket.com/en/Magic/Products/Singles/Bloomburrow/Galewind-Moose?referrer=scryfall&utm_campaign=card_prices&utm_medium=text&utm_source=scryfall\",\n",
            "    \"cardhoarder\": \"https://www.cardhoarder.com/cards/129591?affiliate_id=scryfall&ref=card-profile&utm_campaign=affiliate&utm_medium=card&utm_source=scryfall\"\n",
            "  }\n",
            "}\n"
          ]
        }
      ]
    },
    {
      "cell_type": "markdown",
      "source": [
        "# Transformação"
      ],
      "metadata": {
        "id": "VxOB1YMOEj2O"
      }
    },
    {
      "cell_type": "markdown",
      "source": [
        "## I. Separação das criaturas"
      ],
      "metadata": {
        "id": "P9GR5S588VbC"
      }
    },
    {
      "cell_type": "code",
      "source": [
        "# Verifica se uma carta é uma criatura\n",
        "def is_creature(card):\n",
        "    return 'Creature' in card['type_line']\n",
        "\n",
        "# Cria lista de cartas de criatura\n",
        "creature_cards = [card for card in cards if is_creature(card)]\n",
        "\n",
        "# Imprime informação\n",
        "print(f\"Das {len(cards)} cartas, obtivemos {len(creature_cards)} cartas de criatura.\")"
      ],
      "metadata": {
        "colab": {
          "base_uri": "https://localhost:8080/"
        },
        "id": "mxwTEW4CMRkw",
        "outputId": "10455738-6c66-4e1b-ef90-f91ddca4cfc0"
      },
      "execution_count": null,
      "outputs": [
        {
          "output_type": "stream",
          "name": "stdout",
          "text": [
            "Das 36468 cartas, obtivemos 18095 cartas de criatura.\n"
          ]
        }
      ]
    },
    {
      "cell_type": "markdown",
      "source": [
        "## II. Conversão em DataFrame"
      ],
      "metadata": {
        "id": "jGupvMsHZQpW"
      }
    },
    {
      "cell_type": "code",
      "source": [
        "0# Colunas do DataFrame\n",
        "df_columns = ['name', 'set_name', 'cmc', 'power', 'toughness', 'oracle_text']\n",
        "\n",
        "# Obtenção da linha do dataframe a partir de um objeto de carta\n",
        "def get_row(card):\n",
        "    return [card[item] if item in card else None for item in df_columns]\n",
        "\n",
        "# Criação do conteúdo do DataFrame\n",
        "df_rows = [get_row(card) for card in creature_cards]\n",
        "\n",
        "# Criação do DataFrame\n",
        "df = pd.DataFrame(df_rows, columns=df_columns)\n",
        "\n",
        "df.head()"
      ],
      "metadata": {
        "colab": {
          "base_uri": "https://localhost:8080/",
          "height": 206
        },
        "id": "LGk9qikiNno1",
        "outputId": "3219cf29-b98e-4201-cb12-9cd2336a69e6"
      },
      "execution_count": null,
      "outputs": [
        {
          "output_type": "execute_result",
          "data": {
            "text/plain": [
              "                          name     set_name  cmc power toughness  \\\n",
              "0  Daretti, Rocketeer Engineer  Aetherdrift  5.0     *         5   \n",
              "1         Brightglass Gearhulk  Aetherdrift  4.0     4         4   \n",
              "2         Sire of Seven Deaths  Foundations  7.0     7         7   \n",
              "3       Arahbo, the First Fang  Foundations  3.0     2         2   \n",
              "4               Armasaur Guide  Foundations  5.0     4         4   \n",
              "\n",
              "                                         oracle_text  \n",
              "0  Daretti's power is equal to the greatest mana ...  \n",
              "1  First strike, trample\\nWhen this creature ente...  \n",
              "2  First strike, vigilance\\nMenace, trample\\nReac...  \n",
              "3  Other Cats you control get +1/+1.\\nWhenever Ar...  \n",
              "4  Vigilance (Attacking doesn't cause this creatu...  "
            ],
            "text/html": [
              "\n",
              "  <div id=\"df-79b08361-08ab-4d1a-8871-4add872148d0\" class=\"colab-df-container\">\n",
              "    <div>\n",
              "<style scoped>\n",
              "    .dataframe tbody tr th:only-of-type {\n",
              "        vertical-align: middle;\n",
              "    }\n",
              "\n",
              "    .dataframe tbody tr th {\n",
              "        vertical-align: top;\n",
              "    }\n",
              "\n",
              "    .dataframe thead th {\n",
              "        text-align: right;\n",
              "    }\n",
              "</style>\n",
              "<table border=\"1\" class=\"dataframe\">\n",
              "  <thead>\n",
              "    <tr style=\"text-align: right;\">\n",
              "      <th></th>\n",
              "      <th>name</th>\n",
              "      <th>set_name</th>\n",
              "      <th>cmc</th>\n",
              "      <th>power</th>\n",
              "      <th>toughness</th>\n",
              "      <th>oracle_text</th>\n",
              "    </tr>\n",
              "  </thead>\n",
              "  <tbody>\n",
              "    <tr>\n",
              "      <th>0</th>\n",
              "      <td>Daretti, Rocketeer Engineer</td>\n",
              "      <td>Aetherdrift</td>\n",
              "      <td>5.0</td>\n",
              "      <td>*</td>\n",
              "      <td>5</td>\n",
              "      <td>Daretti's power is equal to the greatest mana ...</td>\n",
              "    </tr>\n",
              "    <tr>\n",
              "      <th>1</th>\n",
              "      <td>Brightglass Gearhulk</td>\n",
              "      <td>Aetherdrift</td>\n",
              "      <td>4.0</td>\n",
              "      <td>4</td>\n",
              "      <td>4</td>\n",
              "      <td>First strike, trample\\nWhen this creature ente...</td>\n",
              "    </tr>\n",
              "    <tr>\n",
              "      <th>2</th>\n",
              "      <td>Sire of Seven Deaths</td>\n",
              "      <td>Foundations</td>\n",
              "      <td>7.0</td>\n",
              "      <td>7</td>\n",
              "      <td>7</td>\n",
              "      <td>First strike, vigilance\\nMenace, trample\\nReac...</td>\n",
              "    </tr>\n",
              "    <tr>\n",
              "      <th>3</th>\n",
              "      <td>Arahbo, the First Fang</td>\n",
              "      <td>Foundations</td>\n",
              "      <td>3.0</td>\n",
              "      <td>2</td>\n",
              "      <td>2</td>\n",
              "      <td>Other Cats you control get +1/+1.\\nWhenever Ar...</td>\n",
              "    </tr>\n",
              "    <tr>\n",
              "      <th>4</th>\n",
              "      <td>Armasaur Guide</td>\n",
              "      <td>Foundations</td>\n",
              "      <td>5.0</td>\n",
              "      <td>4</td>\n",
              "      <td>4</td>\n",
              "      <td>Vigilance (Attacking doesn't cause this creatu...</td>\n",
              "    </tr>\n",
              "  </tbody>\n",
              "</table>\n",
              "</div>\n",
              "    <div class=\"colab-df-buttons\">\n",
              "\n",
              "  <div class=\"colab-df-container\">\n",
              "    <button class=\"colab-df-convert\" onclick=\"convertToInteractive('df-79b08361-08ab-4d1a-8871-4add872148d0')\"\n",
              "            title=\"Convert this dataframe to an interactive table.\"\n",
              "            style=\"display:none;\">\n",
              "\n",
              "  <svg xmlns=\"http://www.w3.org/2000/svg\" height=\"24px\" viewBox=\"0 -960 960 960\">\n",
              "    <path d=\"M120-120v-720h720v720H120Zm60-500h600v-160H180v160Zm220 220h160v-160H400v160Zm0 220h160v-160H400v160ZM180-400h160v-160H180v160Zm440 0h160v-160H620v160ZM180-180h160v-160H180v160Zm440 0h160v-160H620v160Z\"/>\n",
              "  </svg>\n",
              "    </button>\n",
              "\n",
              "  <style>\n",
              "    .colab-df-container {\n",
              "      display:flex;\n",
              "      gap: 12px;\n",
              "    }\n",
              "\n",
              "    .colab-df-convert {\n",
              "      background-color: #E8F0FE;\n",
              "      border: none;\n",
              "      border-radius: 50%;\n",
              "      cursor: pointer;\n",
              "      display: none;\n",
              "      fill: #1967D2;\n",
              "      height: 32px;\n",
              "      padding: 0 0 0 0;\n",
              "      width: 32px;\n",
              "    }\n",
              "\n",
              "    .colab-df-convert:hover {\n",
              "      background-color: #E2EBFA;\n",
              "      box-shadow: 0px 1px 2px rgba(60, 64, 67, 0.3), 0px 1px 3px 1px rgba(60, 64, 67, 0.15);\n",
              "      fill: #174EA6;\n",
              "    }\n",
              "\n",
              "    .colab-df-buttons div {\n",
              "      margin-bottom: 4px;\n",
              "    }\n",
              "\n",
              "    [theme=dark] .colab-df-convert {\n",
              "      background-color: #3B4455;\n",
              "      fill: #D2E3FC;\n",
              "    }\n",
              "\n",
              "    [theme=dark] .colab-df-convert:hover {\n",
              "      background-color: #434B5C;\n",
              "      box-shadow: 0px 1px 3px 1px rgba(0, 0, 0, 0.15);\n",
              "      filter: drop-shadow(0px 1px 2px rgba(0, 0, 0, 0.3));\n",
              "      fill: #FFFFFF;\n",
              "    }\n",
              "  </style>\n",
              "\n",
              "    <script>\n",
              "      const buttonEl =\n",
              "        document.querySelector('#df-79b08361-08ab-4d1a-8871-4add872148d0 button.colab-df-convert');\n",
              "      buttonEl.style.display =\n",
              "        google.colab.kernel.accessAllowed ? 'block' : 'none';\n",
              "\n",
              "      async function convertToInteractive(key) {\n",
              "        const element = document.querySelector('#df-79b08361-08ab-4d1a-8871-4add872148d0');\n",
              "        const dataTable =\n",
              "          await google.colab.kernel.invokeFunction('convertToInteractive',\n",
              "                                                    [key], {});\n",
              "        if (!dataTable) return;\n",
              "\n",
              "        const docLinkHtml = 'Like what you see? Visit the ' +\n",
              "          '<a target=\"_blank\" href=https://colab.research.google.com/notebooks/data_table.ipynb>data table notebook</a>'\n",
              "          + ' to learn more about interactive tables.';\n",
              "        element.innerHTML = '';\n",
              "        dataTable['output_type'] = 'display_data';\n",
              "        await google.colab.output.renderOutput(dataTable, element);\n",
              "        const docLink = document.createElement('div');\n",
              "        docLink.innerHTML = docLinkHtml;\n",
              "        element.appendChild(docLink);\n",
              "      }\n",
              "    </script>\n",
              "  </div>\n",
              "\n",
              "\n",
              "<div id=\"df-a491117f-4884-4cdd-b0d4-2a4e93a7807b\">\n",
              "  <button class=\"colab-df-quickchart\" onclick=\"quickchart('df-a491117f-4884-4cdd-b0d4-2a4e93a7807b')\"\n",
              "            title=\"Suggest charts\"\n",
              "            style=\"display:none;\">\n",
              "\n",
              "<svg xmlns=\"http://www.w3.org/2000/svg\" height=\"24px\"viewBox=\"0 0 24 24\"\n",
              "     width=\"24px\">\n",
              "    <g>\n",
              "        <path d=\"M19 3H5c-1.1 0-2 .9-2 2v14c0 1.1.9 2 2 2h14c1.1 0 2-.9 2-2V5c0-1.1-.9-2-2-2zM9 17H7v-7h2v7zm4 0h-2V7h2v10zm4 0h-2v-4h2v4z\"/>\n",
              "    </g>\n",
              "</svg>\n",
              "  </button>\n",
              "\n",
              "<style>\n",
              "  .colab-df-quickchart {\n",
              "      --bg-color: #E8F0FE;\n",
              "      --fill-color: #1967D2;\n",
              "      --hover-bg-color: #E2EBFA;\n",
              "      --hover-fill-color: #174EA6;\n",
              "      --disabled-fill-color: #AAA;\n",
              "      --disabled-bg-color: #DDD;\n",
              "  }\n",
              "\n",
              "  [theme=dark] .colab-df-quickchart {\n",
              "      --bg-color: #3B4455;\n",
              "      --fill-color: #D2E3FC;\n",
              "      --hover-bg-color: #434B5C;\n",
              "      --hover-fill-color: #FFFFFF;\n",
              "      --disabled-bg-color: #3B4455;\n",
              "      --disabled-fill-color: #666;\n",
              "  }\n",
              "\n",
              "  .colab-df-quickchart {\n",
              "    background-color: var(--bg-color);\n",
              "    border: none;\n",
              "    border-radius: 50%;\n",
              "    cursor: pointer;\n",
              "    display: none;\n",
              "    fill: var(--fill-color);\n",
              "    height: 32px;\n",
              "    padding: 0;\n",
              "    width: 32px;\n",
              "  }\n",
              "\n",
              "  .colab-df-quickchart:hover {\n",
              "    background-color: var(--hover-bg-color);\n",
              "    box-shadow: 0 1px 2px rgba(60, 64, 67, 0.3), 0 1px 3px 1px rgba(60, 64, 67, 0.15);\n",
              "    fill: var(--button-hover-fill-color);\n",
              "  }\n",
              "\n",
              "  .colab-df-quickchart-complete:disabled,\n",
              "  .colab-df-quickchart-complete:disabled:hover {\n",
              "    background-color: var(--disabled-bg-color);\n",
              "    fill: var(--disabled-fill-color);\n",
              "    box-shadow: none;\n",
              "  }\n",
              "\n",
              "  .colab-df-spinner {\n",
              "    border: 2px solid var(--fill-color);\n",
              "    border-color: transparent;\n",
              "    border-bottom-color: var(--fill-color);\n",
              "    animation:\n",
              "      spin 1s steps(1) infinite;\n",
              "  }\n",
              "\n",
              "  @keyframes spin {\n",
              "    0% {\n",
              "      border-color: transparent;\n",
              "      border-bottom-color: var(--fill-color);\n",
              "      border-left-color: var(--fill-color);\n",
              "    }\n",
              "    20% {\n",
              "      border-color: transparent;\n",
              "      border-left-color: var(--fill-color);\n",
              "      border-top-color: var(--fill-color);\n",
              "    }\n",
              "    30% {\n",
              "      border-color: transparent;\n",
              "      border-left-color: var(--fill-color);\n",
              "      border-top-color: var(--fill-color);\n",
              "      border-right-color: var(--fill-color);\n",
              "    }\n",
              "    40% {\n",
              "      border-color: transparent;\n",
              "      border-right-color: var(--fill-color);\n",
              "      border-top-color: var(--fill-color);\n",
              "    }\n",
              "    60% {\n",
              "      border-color: transparent;\n",
              "      border-right-color: var(--fill-color);\n",
              "    }\n",
              "    80% {\n",
              "      border-color: transparent;\n",
              "      border-right-color: var(--fill-color);\n",
              "      border-bottom-color: var(--fill-color);\n",
              "    }\n",
              "    90% {\n",
              "      border-color: transparent;\n",
              "      border-bottom-color: var(--fill-color);\n",
              "    }\n",
              "  }\n",
              "</style>\n",
              "\n",
              "  <script>\n",
              "    async function quickchart(key) {\n",
              "      const quickchartButtonEl =\n",
              "        document.querySelector('#' + key + ' button');\n",
              "      quickchartButtonEl.disabled = true;  // To prevent multiple clicks.\n",
              "      quickchartButtonEl.classList.add('colab-df-spinner');\n",
              "      try {\n",
              "        const charts = await google.colab.kernel.invokeFunction(\n",
              "            'suggestCharts', [key], {});\n",
              "      } catch (error) {\n",
              "        console.error('Error during call to suggestCharts:', error);\n",
              "      }\n",
              "      quickchartButtonEl.classList.remove('colab-df-spinner');\n",
              "      quickchartButtonEl.classList.add('colab-df-quickchart-complete');\n",
              "    }\n",
              "    (() => {\n",
              "      let quickchartButtonEl =\n",
              "        document.querySelector('#df-a491117f-4884-4cdd-b0d4-2a4e93a7807b button');\n",
              "      quickchartButtonEl.style.display =\n",
              "        google.colab.kernel.accessAllowed ? 'block' : 'none';\n",
              "    })();\n",
              "  </script>\n",
              "</div>\n",
              "\n",
              "    </div>\n",
              "  </div>\n"
            ],
            "application/vnd.google.colaboratory.intrinsic+json": {
              "type": "dataframe",
              "variable_name": "df",
              "summary": "{\n  \"name\": \"df\",\n  \"rows\": 18095,\n  \"fields\": [\n    {\n      \"column\": \"name\",\n      \"properties\": {\n        \"dtype\": \"string\",\n        \"num_unique_values\": 12790,\n        \"samples\": [\n          \"Blood Ogre\",\n          \"Tavern Swindler\",\n          \"Merciless Javelineer\"\n        ],\n        \"semantic_type\": \"\",\n        \"description\": \"\"\n      }\n    },\n    {\n      \"column\": \"set_name\",\n      \"properties\": {\n        \"dtype\": \"category\",\n        \"num_unique_values\": 131,\n        \"samples\": [\n          \"Avacyn Restored\",\n          \"Oath of the Gatewatch\",\n          \"Strixhaven: School of Mages\"\n        ],\n        \"semantic_type\": \"\",\n        \"description\": \"\"\n      }\n    },\n    {\n      \"column\": \"cmc\",\n      \"properties\": {\n        \"dtype\": \"number\",\n        \"std\": 1.6572302994656254,\n        \"min\": 0.0,\n        \"max\": 16.0,\n        \"num_unique_values\": 16,\n        \"samples\": [\n          5.0,\n          4.0,\n          6.0\n        ],\n        \"semantic_type\": \"\",\n        \"description\": \"\"\n      }\n    },\n    {\n      \"column\": \"power\",\n      \"properties\": {\n        \"dtype\": \"category\",\n        \"num_unique_values\": 21,\n        \"samples\": [\n          \"*\",\n          \"13\",\n          \"1+*\"\n        ],\n        \"semantic_type\": \"\",\n        \"description\": \"\"\n      }\n    },\n    {\n      \"column\": \"toughness\",\n      \"properties\": {\n        \"dtype\": \"category\",\n        \"num_unique_values\": 24,\n        \"samples\": [\n          \"8\",\n          \"1+*\",\n          \"5\"\n        ],\n        \"semantic_type\": \"\",\n        \"description\": \"\"\n      }\n    },\n    {\n      \"column\": \"oracle_text\",\n      \"properties\": {\n        \"dtype\": \"string\",\n        \"num_unique_values\": 11485,\n        \"samples\": [\n          \"When Diregraf Horde enters, create two 2/2 black Zombie creature tokens with decayed. When you do, exile up to two target cards from graveyards. (A creature with decayed can't block. When it attacks, sacrifice it at end of combat.)\",\n          \"At the beginning of your upkeep, sacrifice School of Piranha unless you pay {1}{U}.\",\n          \"Suq'Ata Firewalker can't be the target of red spells or abilities from red sources.\\n{T}: Suq'Ata Firewalker deals 1 damage to any target.\"\n        ],\n        \"semantic_type\": \"\",\n        \"description\": \"\"\n      }\n    }\n  ]\n}"
            }
          },
          "metadata": {},
          "execution_count": 19
        }
      ]
    },
    {
      "cell_type": "code",
      "source": [
        "# Shape do DataFrame\n",
        "df.shape"
      ],
      "metadata": {
        "colab": {
          "base_uri": "https://localhost:8080/"
        },
        "id": "6vujNICIR0Zt",
        "outputId": "c4966a2a-0737-4810-bb2a-c5c8ba94bc06"
      },
      "execution_count": null,
      "outputs": [
        {
          "output_type": "execute_result",
          "data": {
            "text/plain": [
              "(18095, 6)"
            ]
          },
          "metadata": {},
          "execution_count": 20
        }
      ]
    },
    {
      "cell_type": "markdown",
      "source": [
        "# Carregamento"
      ],
      "metadata": {
        "id": "Gqr9ZNCrRueA"
      }
    },
    {
      "cell_type": "code",
      "source": [
        "# Salvamos o DataFrame como um arquivo CSV\n",
        "df.to_csv('basic_creatures.csv', sep=';')"
      ],
      "metadata": {
        "id": "mCcbhL9YRu59"
      },
      "execution_count": null,
      "outputs": []
    }
  ]
}